{
  "nbformat": 4,
  "nbformat_minor": 0,
  "metadata": {
    "colab": {
      "provenance": [],
      "authorship_tag": "ABX9TyPFgorcmts1kUqkVyq39Tgr",
      "include_colab_link": true
    },
    "kernelspec": {
      "name": "python3",
      "display_name": "Python 3"
    },
    "language_info": {
      "name": "python"
    },
    "accelerator": "TPU"
  },
  "cells": [
    {
      "cell_type": "markdown",
      "metadata": {
        "id": "view-in-github",
        "colab_type": "text"
      },
      "source": [
        "<a href=\"https://colab.research.google.com/github/GirishNaik711/CodeClauseInternship_Color_Detection_OpenCV/blob/main/color_detection.ipynb\" target=\"_parent\"><img src=\"https://colab.research.google.com/assets/colab-badge.svg\" alt=\"Open In Colab\"/></a>"
      ]
    },
    {
      "cell_type": "markdown",
      "source": [
        "\n",
        "For this basic project, we'll rely on the cv2 library to read and display our chosen image. We'll also implement a mouse click callback, allowing us to capture RGB values from clicked pixels. This information will be used to display the color's name and its RGB values. To streamline our process, we'll leverage the pandas library for efficient reading of a CSV file containing 865 color names and their associated RGB values"
      ],
      "metadata": {
        "id": "cpSa8rUyfNng"
      }
    },
    {
      "cell_type": "markdown",
      "source": [
        "#The Following is the code for Detection on an Image using OpenCV\n"
      ],
      "metadata": {
        "id": "ZFDAYO3h9Er-"
      }
    },
    {
      "cell_type": "code",
      "execution_count": 3,
      "metadata": {
        "id": "l43oSV9qOOd5"
      },
      "outputs": [],
      "source": [
        "import pandas as pd\n",
        "import numpy as np\n",
        "import cv2 as cv\n",
        "import matplotlib.pyplot as plt\n",
        "from google.colab.patches import cv2_imshow"
      ]
    },
    {
      "cell_type": "code",
      "source": [
        "cols = ('color', 'color_name', 'hex', 'R','G','B')\n",
        "df = pd.read_csv('/content/colors.csv', names = cols)\n",
        "img = cv.imread('/content/colorpic.jpg')"
      ],
      "metadata": {
        "id": "Cp581nPCPyEV"
      },
      "execution_count": 4,
      "outputs": []
    },
    {
      "cell_type": "code",
      "source": [
        "df.head()"
      ],
      "metadata": {
        "id": "c-L4HKcORT5_",
        "colab": {
          "base_uri": "https://localhost:8080/",
          "height": 206
        },
        "outputId": "09a51b6a-64fb-40a8-cd7c-fd2e3a50d9b0"
      },
      "execution_count": 5,
      "outputs": [
        {
          "output_type": "execute_result",
          "data": {
            "text/plain": [
              "                  color             color_name      hex    R    G    B\n",
              "0    air_force_blue_raf   Air Force Blue (Raf)  #5d8aa8   93  138  168\n",
              "1   air_force_blue_usaf  Air Force Blue (Usaf)  #00308f    0   48  143\n",
              "2  air_superiority_blue   Air Superiority Blue  #72a0c1  114  160  193\n",
              "3       alabama_crimson        Alabama Crimson  #a32638  163   38   56\n",
              "4            alice_blue             Alice Blue  #f0f8ff  240  248  255"
            ],
            "text/html": [
              "\n",
              "  <div id=\"df-2eff46c5-118c-4fbb-b9fc-30d1d6fbe613\" class=\"colab-df-container\">\n",
              "    <div>\n",
              "<style scoped>\n",
              "    .dataframe tbody tr th:only-of-type {\n",
              "        vertical-align: middle;\n",
              "    }\n",
              "\n",
              "    .dataframe tbody tr th {\n",
              "        vertical-align: top;\n",
              "    }\n",
              "\n",
              "    .dataframe thead th {\n",
              "        text-align: right;\n",
              "    }\n",
              "</style>\n",
              "<table border=\"1\" class=\"dataframe\">\n",
              "  <thead>\n",
              "    <tr style=\"text-align: right;\">\n",
              "      <th></th>\n",
              "      <th>color</th>\n",
              "      <th>color_name</th>\n",
              "      <th>hex</th>\n",
              "      <th>R</th>\n",
              "      <th>G</th>\n",
              "      <th>B</th>\n",
              "    </tr>\n",
              "  </thead>\n",
              "  <tbody>\n",
              "    <tr>\n",
              "      <th>0</th>\n",
              "      <td>air_force_blue_raf</td>\n",
              "      <td>Air Force Blue (Raf)</td>\n",
              "      <td>#5d8aa8</td>\n",
              "      <td>93</td>\n",
              "      <td>138</td>\n",
              "      <td>168</td>\n",
              "    </tr>\n",
              "    <tr>\n",
              "      <th>1</th>\n",
              "      <td>air_force_blue_usaf</td>\n",
              "      <td>Air Force Blue (Usaf)</td>\n",
              "      <td>#00308f</td>\n",
              "      <td>0</td>\n",
              "      <td>48</td>\n",
              "      <td>143</td>\n",
              "    </tr>\n",
              "    <tr>\n",
              "      <th>2</th>\n",
              "      <td>air_superiority_blue</td>\n",
              "      <td>Air Superiority Blue</td>\n",
              "      <td>#72a0c1</td>\n",
              "      <td>114</td>\n",
              "      <td>160</td>\n",
              "      <td>193</td>\n",
              "    </tr>\n",
              "    <tr>\n",
              "      <th>3</th>\n",
              "      <td>alabama_crimson</td>\n",
              "      <td>Alabama Crimson</td>\n",
              "      <td>#a32638</td>\n",
              "      <td>163</td>\n",
              "      <td>38</td>\n",
              "      <td>56</td>\n",
              "    </tr>\n",
              "    <tr>\n",
              "      <th>4</th>\n",
              "      <td>alice_blue</td>\n",
              "      <td>Alice Blue</td>\n",
              "      <td>#f0f8ff</td>\n",
              "      <td>240</td>\n",
              "      <td>248</td>\n",
              "      <td>255</td>\n",
              "    </tr>\n",
              "  </tbody>\n",
              "</table>\n",
              "</div>\n",
              "    <div class=\"colab-df-buttons\">\n",
              "\n",
              "  <div class=\"colab-df-container\">\n",
              "    <button class=\"colab-df-convert\" onclick=\"convertToInteractive('df-2eff46c5-118c-4fbb-b9fc-30d1d6fbe613')\"\n",
              "            title=\"Convert this dataframe to an interactive table.\"\n",
              "            style=\"display:none;\">\n",
              "\n",
              "  <svg xmlns=\"http://www.w3.org/2000/svg\" height=\"24px\" viewBox=\"0 -960 960 960\">\n",
              "    <path d=\"M120-120v-720h720v720H120Zm60-500h600v-160H180v160Zm220 220h160v-160H400v160Zm0 220h160v-160H400v160ZM180-400h160v-160H180v160Zm440 0h160v-160H620v160ZM180-180h160v-160H180v160Zm440 0h160v-160H620v160Z\"/>\n",
              "  </svg>\n",
              "    </button>\n",
              "\n",
              "  <style>\n",
              "    .colab-df-container {\n",
              "      display:flex;\n",
              "      gap: 12px;\n",
              "    }\n",
              "\n",
              "    .colab-df-convert {\n",
              "      background-color: #E8F0FE;\n",
              "      border: none;\n",
              "      border-radius: 50%;\n",
              "      cursor: pointer;\n",
              "      display: none;\n",
              "      fill: #1967D2;\n",
              "      height: 32px;\n",
              "      padding: 0 0 0 0;\n",
              "      width: 32px;\n",
              "    }\n",
              "\n",
              "    .colab-df-convert:hover {\n",
              "      background-color: #E2EBFA;\n",
              "      box-shadow: 0px 1px 2px rgba(60, 64, 67, 0.3), 0px 1px 3px 1px rgba(60, 64, 67, 0.15);\n",
              "      fill: #174EA6;\n",
              "    }\n",
              "\n",
              "    .colab-df-buttons div {\n",
              "      margin-bottom: 4px;\n",
              "    }\n",
              "\n",
              "    [theme=dark] .colab-df-convert {\n",
              "      background-color: #3B4455;\n",
              "      fill: #D2E3FC;\n",
              "    }\n",
              "\n",
              "    [theme=dark] .colab-df-convert:hover {\n",
              "      background-color: #434B5C;\n",
              "      box-shadow: 0px 1px 3px 1px rgba(0, 0, 0, 0.15);\n",
              "      filter: drop-shadow(0px 1px 2px rgba(0, 0, 0, 0.3));\n",
              "      fill: #FFFFFF;\n",
              "    }\n",
              "  </style>\n",
              "\n",
              "    <script>\n",
              "      const buttonEl =\n",
              "        document.querySelector('#df-2eff46c5-118c-4fbb-b9fc-30d1d6fbe613 button.colab-df-convert');\n",
              "      buttonEl.style.display =\n",
              "        google.colab.kernel.accessAllowed ? 'block' : 'none';\n",
              "\n",
              "      async function convertToInteractive(key) {\n",
              "        const element = document.querySelector('#df-2eff46c5-118c-4fbb-b9fc-30d1d6fbe613');\n",
              "        const dataTable =\n",
              "          await google.colab.kernel.invokeFunction('convertToInteractive',\n",
              "                                                    [key], {});\n",
              "        if (!dataTable) return;\n",
              "\n",
              "        const docLinkHtml = 'Like what you see? Visit the ' +\n",
              "          '<a target=\"_blank\" href=https://colab.research.google.com/notebooks/data_table.ipynb>data table notebook</a>'\n",
              "          + ' to learn more about interactive tables.';\n",
              "        element.innerHTML = '';\n",
              "        dataTable['output_type'] = 'display_data';\n",
              "        await google.colab.output.renderOutput(dataTable, element);\n",
              "        const docLink = document.createElement('div');\n",
              "        docLink.innerHTML = docLinkHtml;\n",
              "        element.appendChild(docLink);\n",
              "      }\n",
              "    </script>\n",
              "  </div>\n",
              "\n",
              "\n",
              "<div id=\"df-bb6c981f-4742-49f6-b16a-bf67b298b683\">\n",
              "  <button class=\"colab-df-quickchart\" onclick=\"quickchart('df-bb6c981f-4742-49f6-b16a-bf67b298b683')\"\n",
              "            title=\"Suggest charts.\"\n",
              "            style=\"display:none;\">\n",
              "\n",
              "<svg xmlns=\"http://www.w3.org/2000/svg\" height=\"24px\"viewBox=\"0 0 24 24\"\n",
              "     width=\"24px\">\n",
              "    <g>\n",
              "        <path d=\"M19 3H5c-1.1 0-2 .9-2 2v14c0 1.1.9 2 2 2h14c1.1 0 2-.9 2-2V5c0-1.1-.9-2-2-2zM9 17H7v-7h2v7zm4 0h-2V7h2v10zm4 0h-2v-4h2v4z\"/>\n",
              "    </g>\n",
              "</svg>\n",
              "  </button>\n",
              "\n",
              "<style>\n",
              "  .colab-df-quickchart {\n",
              "    background-color: #E8F0FE;\n",
              "    border: none;\n",
              "    border-radius: 50%;\n",
              "    cursor: pointer;\n",
              "    display: none;\n",
              "    fill: #1967D2;\n",
              "    height: 32px;\n",
              "    padding: 0 0 0 0;\n",
              "    width: 32px;\n",
              "  }\n",
              "\n",
              "  .colab-df-quickchart:hover {\n",
              "    background-color: #E2EBFA;\n",
              "    box-shadow: 0px 1px 2px rgba(60, 64, 67, 0.3), 0px 1px 3px 1px rgba(60, 64, 67, 0.15);\n",
              "    fill: #174EA6;\n",
              "  }\n",
              "\n",
              "  [theme=dark] .colab-df-quickchart {\n",
              "    background-color: #3B4455;\n",
              "    fill: #D2E3FC;\n",
              "  }\n",
              "\n",
              "  [theme=dark] .colab-df-quickchart:hover {\n",
              "    background-color: #434B5C;\n",
              "    box-shadow: 0px 1px 3px 1px rgba(0, 0, 0, 0.15);\n",
              "    filter: drop-shadow(0px 1px 2px rgba(0, 0, 0, 0.3));\n",
              "    fill: #FFFFFF;\n",
              "  }\n",
              "</style>\n",
              "\n",
              "  <script>\n",
              "    async function quickchart(key) {\n",
              "      const charts = await google.colab.kernel.invokeFunction(\n",
              "          'suggestCharts', [key], {});\n",
              "    }\n",
              "    (() => {\n",
              "      let quickchartButtonEl =\n",
              "        document.querySelector('#df-bb6c981f-4742-49f6-b16a-bf67b298b683 button');\n",
              "      quickchartButtonEl.style.display =\n",
              "        google.colab.kernel.accessAllowed ? 'block' : 'none';\n",
              "    })();\n",
              "  </script>\n",
              "</div>\n",
              "    </div>\n",
              "  </div>\n"
            ]
          },
          "metadata": {},
          "execution_count": 5
        }
      ]
    },
    {
      "cell_type": "markdown",
      "source": [
        "Within the RGB color space, colors are represented using 24 bits, resulting in a total of 16,581,375 unique colors. Given this vast array of colors, naming each one individually is impractical. In our CSV file, we've curated a list of 865 color names. However, due to this limitation, certain RGB values will correspond to the same name. Our task is to associate each RGB value with a name, which is accomplished by calculating the distance between colors and determining the nearest match."
      ],
      "metadata": {
        "id": "3tppQg3j_MfU"
      }
    },
    {
      "cell_type": "code",
      "source": [
        "def getColorName(R, G, B):\n",
        "  minimum = 1000\n",
        "  for i in range(len(df)):\n",
        "    d = abs(R - int(df.loc[i, 'R'])) + abs(G - int(df.loc[i, 'G'])) + abs(B - int(df.loc[i,'B']))\n",
        "    if (d < minimum):\n",
        "      minimum = d\n",
        "      color_name = df.loc[i, 'color_name']\n",
        "\n",
        "  return color_name"
      ],
      "metadata": {
        "id": "n2jIIhflWeOA"
      },
      "execution_count": 6,
      "outputs": []
    },
    {
      "cell_type": "markdown",
      "source": [
        "Registering the Mouse Click"
      ],
      "metadata": {
        "id": "5LFFCv1x__nR"
      }
    },
    {
      "cell_type": "code",
      "source": [
        "clicked = False\n",
        "r = g = b = xpos = ypos = 0"
      ],
      "metadata": {
        "id": "h5uPftoOd3Pq"
      },
      "execution_count": 7,
      "outputs": []
    },
    {
      "cell_type": "code",
      "source": [
        "def draw_function(event, x, y, flags, param):\n",
        "    global r, g, b, xpos, ypos, clicked\n",
        "    if event == cv.EVENT_LBUTTONDBLCLK:\n",
        "        clicked = True\n",
        "        xpos = x\n",
        "        ypos = y\n",
        "        b, g, r = img[y, x]\n",
        "        b = int(b)\n",
        "        g = int(g)\n",
        "        r = int(r)"
      ],
      "metadata": {
        "id": "i8jkDL_dCyuo"
      },
      "execution_count": 8,
      "outputs": []
    },
    {
      "cell_type": "code",
      "source": [
        "cv.namedWindow('color_detection')\n",
        "cv.setMouseCallback('color_detection', draw_function)"
      ],
      "metadata": {
        "id": "nEFCgfaNDgrj"
      },
      "execution_count": null,
      "outputs": []
    },
    {
      "cell_type": "markdown",
      "source": [
        "Executing Color Detection on the co-ordinates of the mouse click"
      ],
      "metadata": {
        "id": "YFLmq3btALfY"
      }
    },
    {
      "cell_type": "code",
      "source": [
        "while(1):\n",
        "  cv2_imshow(img)\n",
        "  if (clicked):\n",
        "    cv.rectangle(img, (20,20), (750, 60), (b,g,r) , -1)\n",
        "    color_name = getColorName(r,g,b) + ' R='+str(r) + ' B='+str(b) + ' G='+str(g)\n",
        "    cv.putText(img, color_name, (50,50), 2, 0.8, (255,255,255), 2, cv.LINE_AA)\n",
        "\n",
        "    if(r + g + b >= 600):\n",
        "      cv.putText(img, color_name, (50,50), 2, 0.8, (0,0,0), 2, cv.LINE_AA)\n",
        "\n",
        "    clicked = False\n",
        "\n",
        "    if cv.waitKey(20) & 0xFF == 27:\n",
        "        break\n",
        "\n",
        "cv.destroyAllWindows()\n"
      ],
      "metadata": {
        "id": "YBwW9AvVDucb"
      },
      "execution_count": null,
      "outputs": []
    },
    {
      "cell_type": "markdown",
      "source": [
        "\n",
        "After examining the colors within the image, suppose we're interested in identifying all locations where a particular color appears.\n",
        "\n",
        "To achieve this, we convert both the image and the specific color of interest into the HSV color space. We define a lower bound of [H-10, 100, 100] and an upper bound of [H+10, 255, 255]. This ensures that only colors falling within this range are retained when we employ the cv2.inRange() function"
      ],
      "metadata": {
        "id": "Etq6f3cWgIF1"
      }
    },
    {
      "cell_type": "code",
      "source": [
        "hsv = cv.cvtColor(img, cv.COLOR_BGR2HSV)\n",
        "\n",
        "color = np.uint8([[[b,g,r]]])\n",
        "hsv_color = cv.cvtColor(color, cv.COLOR_BGR2HSV)\n",
        "\n",
        "lower_range = np.array([hsv_color[0][0][0] - 10, 100, 100])\n",
        "upper_range = np.array([hsv_color[0][0][0] + 10, 255, 255])\n",
        "\n",
        "mask = cv.inRange(hsv, lower_range, upper_range)\n",
        "\n",
        "cv.imshow('mask', mask)\n",
        "cv.waitKey(0)\n",
        "cv.destroyAllWindows()"
      ],
      "metadata": {
        "id": "mf2TfU6REJFc"
      },
      "execution_count": null,
      "outputs": []
    }
  ]
}